{
 "cells": [
  {
   "cell_type": "code",
   "execution_count": 78,
   "id": "989be1c8-a423-424f-a921-41ff077e4332",
   "metadata": {},
   "outputs": [
    {
     "name": "stdout",
     "output_type": "stream",
     "text": [
      "Requirement already satisfied: annoy in /opt/anaconda3/lib/python3.12/site-packages (1.17.3)\n"
     ]
    }
   ],
   "source": [
    "!pip install annoy\n"
   ]
  },
  {
   "cell_type": "code",
   "execution_count": 16,
   "id": "074e3a06-5742-472e-8ed2-122c7de2d7b9",
   "metadata": {},
   "outputs": [],
   "source": [
    "import pandas as pd\n",
    "import numpy as np\n",
    "from annoy import AnnoyIndex\n"
   ]
  },
  {
   "cell_type": "code",
   "execution_count": 17,
   "id": "2011a43b-47a8-4f10-9ea8-bda1d68ce162",
   "metadata": {},
   "outputs": [
    {
     "name": "stdout",
     "output_type": "stream",
     "text": [
      "資料筆數： 40560\n"
     ]
    }
   ],
   "source": [
    "# 載入CSV\n",
    "df = pd.read_csv(\"music_dataset.csv\")\n",
    "\n",
    "# 音樂特徵\n",
    "feature_cols = [\n",
    "    'acousticness', 'danceability', 'duration_ms', 'energy',\n",
    "    'instrumentalness', 'liveness', 'loudness',\n",
    "    'speechiness', 'tempo', 'valence'\n",
    "]\n",
    "\n",
    "# 特徵數值化\n",
    "df[feature_cols] = df[feature_cols].fillna(0).astype(float)\n",
    "\n",
    "print(\"資料筆數：\", len(df))\n"
   ]
  },
  {
   "cell_type": "code",
   "execution_count": 18,
   "id": "40c619b3-f6b4-4d5a-88e8-87fb8ce26fe1",
   "metadata": {},
   "outputs": [
    {
     "name": "stdout",
     "output_type": "stream",
     "text": [
      "建立 Annoy Index...\n",
      "Annoy Index 建立完成\n"
     ]
    }
   ],
   "source": [
    "f = len(feature_cols)\n",
    "annoy_index = AnnoyIndex(f, 'euclidean')  #歐氏距離\n",
    "\n",
    "print(\"建立 Annoy Index...\")\n",
    "for i in range(len(df)):\n",
    "    vector = df.loc[i, feature_cols].values\n",
    "    annoy_index.add_item(i, vector)\n",
    "\n",
    "annoy_index.build(10)  \n",
    "print(\"Annoy Index 建立完成\")\n"
   ]
  },
  {
   "cell_type": "code",
   "execution_count": 82,
   "id": "a4233d0d-31a4-45cd-9e70-2f4b58dfebd6",
   "metadata": {},
   "outputs": [],
   "source": [
    "import pandas as pd\n",
    "\n",
    "# 讀取音樂資料集 CSV 檔\n",
    "df = pd.read_csv(\"music_dataset.csv\")\n",
    "\n",
    "# 避免空值\n",
    "df['track_name'] = df['track_name'].fillna('').astype(str)\n",
    "df['artist_name'] = df['artist_name'].fillna('').astype(str)\n",
    "df['music_genre'] = df['music_genre'].fillna('Unknown')\n",
    "df['popularity'] = pd.to_numeric(df['popularity'], errors='coerce').fillna(0)\n"
   ]
  },
  {
   "cell_type": "code",
   "execution_count": 86,
   "id": "cc729a55-3d48-45df-9a80-8b4151a9849b",
   "metadata": {},
   "outputs": [
    {
     "name": "stdout",
     "output_type": "stream",
     "text": [
      "🔍 Enter a song name to get recommendations.\n",
      "👉 Press Enter without typing anything to quit.\n",
      "\n"
     ]
    },
    {
     "name": "stdin",
     "output_type": "stream",
     "text": [
      "Enter the name of a song you like:  Clash\n"
     ]
    },
    {
     "name": "stdout",
     "output_type": "stream",
     "text": [
      "\n",
      "🎵 Songs recommended based on \"Clash\" (Genre: Electronic):\n",
      "  🎧 BZZRK - Kotori Remix — SVDDEN DEATH | Popularity: 28.0 | Score: -2.5914\n",
      "  🎧 Murda — Snavs | Popularity: 54.0 | Score: -4.7440\n",
      "  🎧 Calling You Home (feat. Runn) - Crystal Skies Remix — Seven Lions | Popularity: 32.0 | Score: -4.9853\n",
      "  🎧 Never Ever - Edit — Röyksopp | Popularity: 48.0 | Score: -23.5034\n",
      "  🎧 Cyclone — Dub Pistols | Popularity: 36.0 | Score: -33.5506\n",
      "\n"
     ]
    },
    {
     "name": "stdin",
     "output_type": "stream",
     "text": [
      "Enter the name of a song you like:  \n"
     ]
    },
    {
     "name": "stdout",
     "output_type": "stream",
     "text": [
      "👋 Bye! Enjoy your music!\n"
     ]
    }
   ],
   "source": [
    "# 推薦函式：用 Annoy + genre 篩選 + popularity 加權\n",
    "def recommend_similar_tracks_by_genre(track_name, top_n=5, genre_filter=True, weight_popularity=0.3):\n",
    "    track_name = track_name.lower()\n",
    "    match = df[df['track_name'].str.lower() == track_name]\n",
    "\n",
    "    if match.empty:\n",
    "        print(f\"❌ Can't find the song named \\\"{track_name}\\\". Please try another one.\\n\")\n",
    "        return False\n",
    "\n",
    "    idx = match.index[0]\n",
    "    target_vector = df.loc[idx, feature_cols].values\n",
    "    target_genre = df.loc[idx, 'music_genre']\n",
    "    target_popularity = df.loc[idx, 'popularity']\n",
    "\n",
    "    # 找出最近鄰（包含自己）\n",
    "    candidate_indices, distances = annoy_index.get_nns_by_vector(target_vector, 100, include_distances=True)\n",
    "\n",
    "    candidates = pd.DataFrame({\n",
    "        'index': candidate_indices,\n",
    "        'distance': distances\n",
    "    })\n",
    "\n",
    "    # 加入欄位資訊\n",
    "    candidates['track_name'] = candidates['index'].apply(lambda i: df.loc[i, 'track_name'])\n",
    "    candidates['artist_name'] = candidates['index'].apply(lambda i: df.loc[i, 'artist_name'])\n",
    "    candidates['music_genre'] = candidates['index'].apply(lambda i: df.loc[i, 'music_genre'])\n",
    "    candidates['popularity'] = candidates['index'].apply(lambda i: df.loc[i, 'popularity'])\n",
    "\n",
    "    # 排除自己\n",
    "    candidates = candidates[candidates['index'] != idx]\n",
    "\n",
    "    # 篩選相同 genre\n",
    "    if genre_filter:\n",
    "        candidates = candidates[candidates['music_genre'] == target_genre]\n",
    "\n",
    "    # 加入加權分數（distance 越小越相似）\n",
    "    max_pop = df['popularity'].max()\n",
    "    candidates['popularity_norm'] = candidates['popularity'] / max_pop\n",
    "    candidates['score'] = (1 - weight_popularity) * (1 - candidates['distance']) + weight_popularity * candidates['popularity_norm']\n",
    "\n",
    "    candidates = candidates.sort_values(by='score', ascending=False).head(top_n)\n",
    "\n",
    "    print(f\"\\n🎵 Songs recommended based on \\\"{df.loc[idx, 'track_name']}\\\" (Genre: {target_genre}):\")\n",
    "    for i, row in candidates.iterrows():\n",
    "        print(f\"  🎧 {row['track_name']} — {row['artist_name']} | Popularity: {row['popularity']} | Score: {row['score']:.4f}\")\n",
    "    print()\n",
    "    return True\n",
    "\n",
    "# 使用者互動輸入歌曲名稱\n",
    "print(\"🔍 Enter a song name to get recommendations.\")\n",
    "print(\"👉 Press Enter without typing anything to quit.\\n\")\n",
    "\n",
    "while True:\n",
    "    user_input = input(\"Enter the name of a song you like: \").strip()\n",
    "    if user_input == \"\":\n",
    "        print(\"👋 Bye! Enjoy your music!\")\n",
    "        break\n",
    "    recommend_similar_tracks_by_genre(user_input, top_n=5)\n"
   ]
  },
  {
   "cell_type": "code",
   "execution_count": null,
   "id": "4b6714ca-bd8b-4ddd-bbaa-8de0803c8c4d",
   "metadata": {},
   "outputs": [],
   "source": []
  }
 ],
 "metadata": {
  "kernelspec": {
   "display_name": "Python [conda env:base] *",
   "language": "python",
   "name": "conda-base-py"
  },
  "language_info": {
   "codemirror_mode": {
    "name": "ipython",
    "version": 3
   },
   "file_extension": ".py",
   "mimetype": "text/x-python",
   "name": "python",
   "nbconvert_exporter": "python",
   "pygments_lexer": "ipython3",
   "version": "3.12.7"
  }
 },
 "nbformat": 4,
 "nbformat_minor": 5
}
